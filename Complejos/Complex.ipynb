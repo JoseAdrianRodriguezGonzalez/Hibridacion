{
 "cells": [
  {
   "cell_type": "code",
   "execution_count": 325,
   "id": "a1c3efbe",
   "metadata": {},
   "outputs": [],
   "source": [
    "import numpy as np\n",
    "import scipy.special as sp\n",
    "from scipy.constants import physical_constants\n",
    "from matplotlib import cm, colors\n",
    "import matplotlib.pyplot as plt\n",
    "import seaborn as sns\n",
    "%matplotlib notebook\n"
   ]
  },
  {
   "cell_type": "markdown",
   "id": "62074954",
   "metadata": {},
   "source": [
    "La función radial describe el comportamiento del electrón en función de la distancia del núcleo, proporcionando un medio para visualizar la densidad de nubes de electrones a diferentes distancias del núcleo.\n",
    "\n",
    "$$ R_{_{nl}}(r) = \\sqrt{ \\left(\\frac{2}{na_0}\\right)^{3} \\frac{(n - l - 1)!}{2n(n + l)!} } \\; e^{-\\frac{r}{na_0}} \\; \\left( \\frac{2r}{na_0} \\right)^{l} \\; L_{_{n-l-1}}^{^{2l+1}} \\left( \\frac{2r}{na_0} \\right) $$"
   ]
  },
  {
   "cell_type": "code",
   "execution_count": 326,
   "id": "5f016822",
   "metadata": {},
   "outputs": [],
   "source": [
    "def radial_function(n, l, r, a0):\n",
    "    laguerre = sp.genlaguerre(n - l - 1, 2 * l + 1)\n",
    "    p = 2 * r / (n * a0)\n",
    "    constant_factor = (2 / (n**2)) * np.math.sqrt( np.math.factorial(n - l - 1) / np.math.factorial(n + l) / (a0**3) )\n",
    "\n",
    "    return constant_factor * np.exp(-p / 2) * (p**l) * laguerre(p)"
   ]
  },
  {
   "cell_type": "markdown",
   "id": "68463347",
   "metadata": {},
   "source": [
    "The angular function is described by spherical harmonics and is a function of the polar angle $\\theta$ and the azimuthal angle $\\varphi$. The angular function gives the shape and orientation of the atomic orbitals.\n",
    "\n",
    "$$ Y_{_l}^{^m}(\\theta, \\varphi) = (-1)^m \\sqrt{ \\frac{2l+1}{4\\pi} \\; \\frac{(l-m)!}{(l+m)!} } \\; P_{_l}^{^m} (\\cos \\theta) \\; e^{im\\varphi} $$"
   ]
  },
  {
   "cell_type": "code",
   "execution_count": 327,
   "id": "9af351fc",
   "metadata": {},
   "outputs": [],
   "source": [
    "def angular_function(m, l, theta, phi):\n",
    "    legendre = sp.lpmv(m, l, np.cos(theta))\n",
    "    constant_factor = ((-1)**m) * np.math.sqrt( ((2 * l + 1) * np.math.factorial(l - np.absolute(m))**3) / (4 * np.math.pi * np.math.factorial(l + np.absolute(m))) )\n",
    "\n",
    "    return constant_factor * legendre * np.exp(1.j * m * phi)"
   ]
  },
  {
   "cell_type": "code",
   "execution_count": 328,
   "id": "dacc6e8e",
   "metadata": {},
   "outputs": [],
   "source": [
    "def compute_wavefunction(n, l, m, a0_scale_factor):\n",
    "    a0 = a0_scale_factor * physical_constants['Bohr radius'][0] * 1e12\n",
    "\n",
    "    grid_extend = 480\n",
    "    grid_resolution = 680\n",
    "\n",
    "    x = y = np.linspace(-grid_extend, grid_extend, grid_resolution)\n",
    "    x, y = np.meshgrid(x, y)\n",
    "\n",
    "    phi, theta = np.linspace(0, np.math.pi, 1240), np.linspace(0, 2*np.math.pi, 1240)\n",
    "    phi, theta = np.meshgrid(phi, theta)\n",
    "\n",
    "    eps = np.finfo(float).eps\n",
    "\n",
    "    psi = radial_function(n, l, np.sqrt(x**2 + y**2), a0) * angular_function(m, l, np.arctan(x / (y + eps)), 0)\n",
    "    psi_3d = angular_function(m, l, phi, theta)\n",
    "\n",
    "    return psi"
   ]
  },
  {
   "cell_type": "code",
   "execution_count": 329,
   "id": "b4b484f2",
   "metadata": {},
   "outputs": [],
   "source": [
    "def compute_probability_density(psi):\n",
    "    return np.abs(psi)**2"
   ]
  },
  {
   "cell_type": "code",
   "execution_count": 331,
   "id": "5cd883fd",
   "metadata": {},
   "outputs": [],
   "source": [
    "def CartSpherical():\n",
    "    phi = np.linspace(0, 2* np.pi, 155)\n",
    "    theta = np.linspace(0, np.pi, 155)\n",
    "# meshgrid to generate points\n",
    "    phi, theta = np.meshgrid(phi, theta)\n",
    "    return theta,phi"
   ]
  },
  {
   "cell_type": "code",
   "execution_count": 332,
   "id": "ad213ba5",
   "metadata": {},
   "outputs": [],
   "source": [
    "def sphtocart(theta,phi,Y):\n",
    "    x = np.sin(phi) * np.cos(theta) *abs(Y)\n",
    "    y = np.sin(phi) * np.sin(theta) *abs(Y)\n",
    "    z = np.cos(phi) *abs(Y)\n",
    "    return x,y,z"
   ]
  },
  {
   "cell_type": "code",
   "execution_count": null,
   "id": "1e2feb4e",
   "metadata": {},
   "outputs": [],
   "source": []
  },
  {
   "cell_type": "code",
   "execution_count": 333,
   "id": "6c011a4e",
   "metadata": {},
   "outputs": [],
   "source": [
    "# @title\n",
    "from matplotlib.colors import Normalize\n",
    "def plot_wf_probability_density(n, l, m, a0_scale_factor, dark_theme=False, color_palette='rocket'):\n",
    "    # Color palette validation\n",
    "    try:\n",
    "        sns.color_palette(color_palette)\n",
    "    except ValueError:\n",
    "        raise ValueError(f'{color_palette} is not a recognized Seaborn color palette.')\n",
    "\n",
    "    # Configure plot aesthetics using matplotlib rcParams settings\n",
    "    plt.rcParams['font.family'] = 'STIXGeneral'\n",
    "    plt.rcParams['mathtext.fontset'] = 'stix'\n",
    "    plt.rcParams['xtick.major.width'] = 4\n",
    "    plt.rcParams['ytick.major.width'] = 4\n",
    "    plt.rcParams['xtick.major.size'] = 15\n",
    "    plt.rcParams['ytick.major.size'] = 15\n",
    "    plt.rcParams['xtick.labelsize'] = 30\n",
    "    plt.rcParams['ytick.labelsize'] = 30\n",
    "    plt.rcParams['axes.linewidth'] = 4\n",
    "\n",
    "    # Create a new figure with specified dimensions\n",
    "    fig = plt.figure(figsize=(25, 20))\n",
    "    ax = fig.add_subplot(1, 1, 1, projection='3d')\n",
    "    # fig, ax = plt.subplots(figsize=(16, 16.5))\n",
    "    plt.subplots_adjust(top=0.82)\n",
    "    plt.subplots_adjust(right=0.905)\n",
    "    # plt.subplots_adjust(left=-0.1)\n",
    "\n",
    "    theta,phi=CartSpherical()\n",
    "    x,y,z=sphtocart(theta,phi,angular_function(m,l,theta,phi))\n",
    "    # Compute and visualize the wavefunction probability density\n",
    "    # - By taking the square root of the probability density we reduce the dynamic range\n",
    "    #   of the visualization, spreading out the values and making the electron's presence\n",
    "    #   in low and medium probability regions more distinguishable\n",
    "    # Add a colorbar\n",
    "    # Apply dark theme parameters\n",
    "    if dark_theme:\n",
    "        theme = 'dt'\n",
    "        background_color = sorted(\n",
    "            sns.color_palette(color_palette, n_colors=100),\n",
    "            key=lambda color: 0.2126 * color[0] + 0.7152 * color[1] + 0.0722 * color[2]\n",
    "        )[0]\n",
    "        plt.rcParams['text.color'] = '#dfdfdf'\n",
    "        title_color = '#dfdfdf'\n",
    "        fig.patch.set_facecolor(background_color)\n",
    "        cbar.outline.set_visible(False)\n",
    "        ax.tick_params(axis='x', colors='#c4c4c4')\n",
    "        ax.tick_params(axis='y', colors='#c4c4c4')\n",
    "        for spine in ax.spines.values():\n",
    "            spine.set_color('#c4c4c4')\n",
    "\n",
    "    else:  # Apply light theme parameters\n",
    "        theme = 'lt'\n",
    "        plt.rcParams['text.color'] = '#000000'\n",
    "        title_color = '#000000'\n",
    "        ax.tick_params(axis='x', colors='#000000')\n",
    "        ax.tick_params(axis='y', colors='#000000')\n",
    "\n",
    "    # Save and display the plot\n",
    "    # plt.savefig(f'({n},{l},{m})[{theme}].png')\n",
    "    # plt.show()\n",
    "\n",
    "    # Create a new figure - 3D\n",
    "    # fig, ax = plt.subplots(figsize=(16, 16.5), subplot_kw={'projection': '3d'})\n",
    "    \n",
    "  # Calcular el módulo cuadrado de la función de onda angular\n",
    "    angular_density = np.abs(angular_function(m, l, theta, phi)) ** 2\n",
    "\n",
    "# Normalizar los valores de densidad de probabilidad\n",
    "    norm = Normalize(vmin=np.min(angular_density), vmax=np.max(angular_density))\n",
    "\n",
    "# Obtener colores normalizados para cada punto\n",
    "    colors = cm.jet(norm(angular_density))\n",
    "    ax.set_aspect('equal')\n",
    "    ax.plot_surface(x, y, z, linewidth = 0.5, facecolors=colors,cmap='jet',alpha=0.5)\n",
    "    # ax.set_xlim(-1, 1)\n",
    "    # ax.set_ylim(-1, 1)\n",
    "    # ax.set_zlim(-1, 1)\n",
    "    # plt.savefig(f'({n},{l},{m})[{theme}].png')\n",
    "    plt.show()"
   ]
  },
  {
   "cell_type": "code",
   "execution_count": 334,
   "id": "1db84ed8",
   "metadata": {
    "scrolled": true
   },
   "outputs": [
    {
     "data": {
      "application/vnd.jupyter.widget-view+json": {
       "model_id": "21fcbcb247164c6bafa0483b1122df4b",
       "version_major": 2,
       "version_minor": 0
      },
      "text/plain": [
       "Dropdown(description='n:', options=(1, 2, 3, 4, 5, 6, 7, 8, 9, 10), value=1)"
      ]
     },
     "metadata": {},
     "output_type": "display_data"
    },
    {
     "data": {
      "application/vnd.jupyter.widget-view+json": {
       "model_id": "605619b497cf48a2a08eea0c284d8f74",
       "version_major": 2,
       "version_minor": 0
      },
      "text/plain": [
       "Dropdown(description='l:', options=(0,), value=0)"
      ]
     },
     "metadata": {},
     "output_type": "display_data"
    },
    {
     "data": {
      "application/vnd.jupyter.widget-view+json": {
       "model_id": "886620cc2b534b1996225072277334b9",
       "version_major": 2,
       "version_minor": 0
      },
      "text/plain": [
       "Dropdown(description='m:', options=(0,), value=0)"
      ]
     },
     "metadata": {},
     "output_type": "display_data"
    },
    {
     "data": {
      "application/vnd.jupyter.widget-view+json": {
       "model_id": "7480cc2896f946ea928266af9126a5df",
       "version_major": 2,
       "version_minor": 0
      },
      "text/plain": [
       "FloatSlider(value=1.0, continuous_update=False, description='a0', max=2.0, min=0.01, step=0.01)"
      ]
     },
     "metadata": {},
     "output_type": "display_data"
    },
    {
     "data": {
      "application/vnd.jupyter.widget-view+json": {
       "model_id": "2f4b9ff83c15460d9c5b3ea37f75fd29",
       "version_major": 2,
       "version_minor": 0
      },
      "text/plain": [
       "Button(description='Plot', style=ButtonStyle())"
      ]
     },
     "metadata": {},
     "output_type": "display_data"
    },
    {
     "data": {
      "application/vnd.jupyter.widget-view+json": {
       "model_id": "11a568385fbd4c40b13934dc14e4cdba",
       "version_major": 2,
       "version_minor": 0
      },
      "text/plain": [
       "Output()"
      ]
     },
     "metadata": {},
     "output_type": "display_data"
    }
   ],
   "source": [
    "#@title\n",
    "\n",
    "import ipywidgets as widgets\n",
    "from IPython.display import display\n",
    "\n",
    "plt.rcParams['figure.dpi'] = 38\n",
    "\n",
    "def set_l_aqn(_):\n",
    "    l_aqn.options = [i for i in range(0, n_pqn.value, 1)]\n",
    "    l_aqn.value = 0\n",
    "\n",
    "def set_m_mqn(_):\n",
    "    m_mqn.options = [i for i in range(-l_aqn.value, l_aqn.value+1, 1)]\n",
    "    m_mqn.value = 0\n",
    "\n",
    "def on_button_clicked(b):\n",
    "    output.clear_output()\n",
    "    with output:\n",
    "        plot_wf_probability_density(\n",
    "            n_pqn.value,\n",
    "            l_aqn.value,\n",
    "            m_mqn.value,\n",
    "            a0_scale_factor.value,\n",
    "            False,\n",
    "            'magma'\n",
    "        )\n",
    "\n",
    "n_pqn = widgets.Dropdown(\n",
    "    options = [i for i in range(1, 11, 1)],\n",
    "    value = 1,\n",
    "    description = 'n:',\n",
    "    disabled = False\n",
    ")\n",
    "l_aqn = widgets.Dropdown(\n",
    "    options = [0],\n",
    "    value = 0,\n",
    "    description = 'l:',\n",
    "    disabled = False\n",
    ")\n",
    "m_mqn = widgets.Dropdown(\n",
    "    options = [0],\n",
    "    value = 0,\n",
    "    description = 'm:',\n",
    "    disabled = False\n",
    ")\n",
    "a0_scale_factor = widgets.FloatSlider(\n",
    "    value = 1.0,\n",
    "    min = 0.01,\n",
    "    max = 2.0,\n",
    "    step = 0.01,\n",
    "    description = 'a0',\n",
    "    disabled=False,\n",
    "    continuous_update=False,\n",
    "    orientation='horizontal',\n",
    "    readout=True,\n",
    "    readout_format='.2f',\n",
    ")\n",
    "\n",
    "button = widgets.Button(description='Plot')\n",
    "output = widgets.Output(layout = widgets.Layout())\n",
    "\n",
    "n_pqn.observe(set_l_aqn)\n",
    "l_aqn.observe(set_m_mqn)\n",
    "\n",
    "display(n_pqn)\n",
    "display(l_aqn)\n",
    "display(m_mqn)\n",
    "display(a0_scale_factor)\n",
    "\n",
    "button.on_click(on_button_clicked)\n",
    "\n",
    "display(button, output)"
   ]
  }
 ],
 "metadata": {
  "kernelspec": {
   "display_name": "Python 3 (ipykernel)",
   "language": "python",
   "name": "python3"
  },
  "language_info": {
   "codemirror_mode": {
    "name": "ipython",
    "version": 3
   },
   "file_extension": ".py",
   "mimetype": "text/x-python",
   "name": "python",
   "nbconvert_exporter": "python",
   "pygments_lexer": "ipython3",
   "version": "3.10.9"
  }
 },
 "nbformat": 4,
 "nbformat_minor": 5
}
