{
 "cells": [
  {
   "cell_type": "code",
   "execution_count": 353,
   "id": "3a8840b9",
   "metadata": {},
   "outputs": [],
   "source": [
    "from os import makedirs  # Para crear directorios\n",
    "from sys import argv  # Para acceder a los argumentos de la línea de comandos\n",
    "from time import time  # Para medir el tiempo\n",
    "from tomllib import load  # Para cargar datos específicos\n",
    "import numpy as np  # Para operaciones numéricas\n",
    "from math import factorial  # Para cálculos matemáticos\n",
    "from sympy.physics.hydrogen import R_nl  # Para funciones de onda hidrogenal\n",
    "from scipy.special import lpmv  # Para polinomios asociados de Legendre\n",
    "from matplotlib import pyplot as plt, animation, colormaps  # Para visualización\n",
    "from matplotlib.colors import ListedColormap as lc, LinearSegmentedColormap as lsc, CenteredNorm as cn  # Para manipulación de colores\n",
    "from mpl_toolkits.mplot3d import Axes3D  # Para gráficos tridimensionales\n",
    "import sys"
   ]
  },
  {
   "cell_type": "code",
   "execution_count": 333,
   "id": "0e6a0bf8",
   "metadata": {},
   "outputs": [],
   "source": [
    "# Sección 1: Definición de un diccionario de valores por defecto\n",
    "\n",
    "defaults = {\n",
    "    'n': 1,\n",
    "    'l': 0,\n",
    "    'm': 0,\n",
    "    'dots': 1500, #num de puntos\n",
    "    'bgcolor': 'black',\n",
    "    'colormap': \"lc(np.vstack((plt.get_cmap('cool')(np.linspace(0,1,256)),plt.get_cmap('spring')(np.linspace(0,1,256)))))\",\n",
    "    'mode': 'draw',\n",
    "    'elevation': 0,\n",
    "    'azimuth': 0,\n",
    "    'format': 'png',\n",
    "    'resolution': 1080,\n",
    "    'dotsize': 32,\n",
    "    'dotshape': 'o',\n",
    "    'dotalpha': 0.5,\n",
    "}\n"
   ]
  },
  {
   "cell_type": "code",
   "execution_count": 334,
   "id": "f115f486",
   "metadata": {},
   "outputs": [],
   "source": [
    "#para usar el diccionario\n",
    "try:\n",
    "    with open('override.conf', mode='rb') as config:\n",
    "        defaults.update(load(config))\n",
    "except:\n",
    "    pass\n",
    "\n",
    "defaults = list(defaults.values())\n",
    "\n",
    "\n",
    "if len(argv) == 1:\n",
    "    args = [False] * 8\n",
    "else:\n",
    "    args = ['0' if x == 0 else x for x in defaults]\n",
    "    for i, x in enumerate(argv[1:]):\n",
    "        if x != '.':\n",
    "            args[i] = x\n"
   ]
  },
  {
   "cell_type": "code",
   "execution_count": 335,
   "id": "a156f469",
   "metadata": {},
   "outputs": [],
   "source": [
    "def both(cmap):\n",
    "    arr = cmap(np.linspace(0, 1, 256))\n",
    "    return lc(np.vstack((arr[::-1], arr)))\n",
    "\n",
    "def getformat():\n",
    "    return args[7]\n"
   ]
  },
  {
   "cell_type": "markdown",
   "id": "41369c81",
   "metadata": {},
   "source": [
    "| Tipo de orbital | n | l | m | Descripción                                       |\n",
    "|-----------------|---|---|---|---------------------------------------------------|\n",
    "| s              | 2 | 0 | 0 | Orbital s puro                                    |\n",
    "| px py pz         | 2 | 1 | -1, 0, 1 | Tres orbitales híbridos sp2 en un plano trigonal |\n",
    "| s             | 2 | 0 | 0 | Cuatro orbitales híbridos sp3 en disposición tetraédrica |\n",
    "| spy            | 2 | 1, 2 | Varía según l | Híbrido sp2d combinando orbitales s, p y d en un plano cuadrado |\n"
   ]
  },
  {
   "cell_type": "code",
   "execution_count": null,
   "id": "0214ec89",
   "metadata": {},
   "outputs": [],
   "source": []
  },
  {
   "cell_type": "code",
   "execution_count": 336,
   "id": "0dd68a36",
   "metadata": {},
   "outputs": [
    {
     "name": "stdout",
     "output_type": "stream",
     "text": [
      "n (default 1) = 4\n"
     ]
    }
   ],
   "source": [
    "n =int(input(\"n (default 1) = \") or defaults[0])\n"
   ]
  },
  {
   "cell_type": "code",
   "execution_count": 337,
   "id": "a8a8c048",
   "metadata": {},
   "outputs": [
    {
     "name": "stdout",
     "output_type": "stream",
     "text": [
      "l (default 0) = 3\n"
     ]
    }
   ],
   "source": [
    "l = int(input(\"l (default 0) = \") or defaults[1])"
   ]
  },
  {
   "cell_type": "code",
   "execution_count": 338,
   "id": "3639ffd6",
   "metadata": {},
   "outputs": [
    {
     "name": "stdout",
     "output_type": "stream",
     "text": [
      "m (default 0) = 0\n"
     ]
    }
   ],
   "source": [
    "m =int(input(\"m (default 0) = \") or defaults[2])"
   ]
  },
  {
   "cell_type": "code",
   "execution_count": 339,
   "id": "a245f37e",
   "metadata": {},
   "outputs": [
    {
     "name": "stdout",
     "output_type": "stream",
     "text": [
      "Number of dots (default 1500): \n"
     ]
    }
   ],
   "source": [
    "dots = int(input(\"Number of dots (default 1500): \") or defaults[3])"
   ]
  },
  {
   "cell_type": "code",
   "execution_count": 340,
   "id": "a6d01810",
   "metadata": {},
   "outputs": [
    {
     "name": "stdout",
     "output_type": "stream",
     "text": [
      "Background color (default 'black'): \n"
     ]
    }
   ],
   "source": [
    "bgcolor = (input(\"Background color (default 'black'): \") or defaults[4]).strip()"
   ]
  },
  {
   "cell_type": "code",
   "execution_count": 341,
   "id": "e54fb977",
   "metadata": {
    "scrolled": false
   },
   "outputs": [
    {
     "name": "stdout",
     "output_type": "stream",
     "text": [
      "Change colormap to (optional): \n"
     ]
    }
   ],
   "source": [
    "colormap = eval(input(\"Change colormap to (optional): \") or defaults[5])"
   ]
  },
  {
   "cell_type": "code",
   "execution_count": 342,
   "id": "f96c279b",
   "metadata": {},
   "outputs": [
    {
     "name": "stdout",
     "output_type": "stream",
     "text": [
      "View/Draw [V/D] (default Draw): \n"
     ]
    }
   ],
   "source": [
    "mode = (input(\"View/Draw [V/D] (default Draw): \") or defaults[6]).strip().lower()"
   ]
  },
  {
   "cell_type": "code",
   "execution_count": 343,
   "id": "ddf198cc",
   "metadata": {},
   "outputs": [],
   "source": [
    "bgcolor = (args[4] or input(\"Background color (default 'black'): \") or defaults[4]).strip()\n",
    "colormap = eval(args[5] or input(\"Change colormap to (optional): \") or defaults[5])\n",
    "\n",
    "mode = defaults[6].strip().lower()\n",
    "size = 640\n",
    "if mode == \"view\":\n",
    "    makedirs('view', exist_ok=True)\n",
    "    name = \"view/\" + str((n, l, m)) + \" orbital \" + str(dots) + \" - \" + np.base_repr(int(time()),36) + \".\" + (getformat() or input(\"Format (default PNG): \") or defaults[9]).strip().lower()\n",
    "    # Probabilities of the spherical coordinates\n",
    "\n",
    "def p_r(n,l,z): return z*z*R_nl(n,l,z)**2\n",
    "def p_phi(m,z):\n",
    "    if m < 0: return np.sin(m*z)    # The square of this will be used as the probability,\n",
    "    else: return np.cos(m*z)        # the unsquared function will be useful to compute the wavefunction.\n",
    "\n",
    "def p_theta(m,l,z): return np.sin(z)*lpmv(abs(m),l,np.cos(z))**2\n",
    "    \n",
    "def radial(n):\n",
    "    return 2.625 * n*n                   # Distance r till which plotted\n",
    "def ybonder(n):    \n",
    "    return n**4 * R_nl(n,n-1,n*n)**2    # Rejection sampling upper bound for p_r    \n",
    "def theta2(l,m):\n",
    "    if abs(m) == l:\n",
    "        return (factorial(2*l) / (factorial(l)*2**l))**2    # Rejection sampling upper bound for p_theta\n",
    "    elif abs(m) == 0:\n",
    "        return 2/(np.pi*(l+1/2))\n",
    "    else:\n",
    "        return np.sqrt(abs(m)+1)/(2*l+1) * factorial(l+abs(m))/factorial(l-abs(m))"
   ]
  },
  {
   "cell_type": "code",
   "execution_count": 360,
   "id": "78ee2b38",
   "metadata": {},
   "outputs": [],
   "source": [
    "# Rejection sampling\n",
    "def radialdots(n):\n",
    "    r = []\n",
    "    r1=radial(n)\n",
    "    y_r=ybonder(n)\n",
    "    i=0\n",
    "    while i < dots:\n",
    "        x = np.random.uniform(0, r1)\n",
    "        y = np.random.uniform(0, y_r)\n",
    "        if y < p_r(n,l,x):\n",
    "            r.append(x)\n",
    "            i += 1\n",
    "    return r\n",
    "def phidots(l,m):\n",
    "    phi = []    \n",
    "    i = 0\n",
    "    while i < dots:\n",
    "        x = np.random.uniform(-np.pi, np.pi)\n",
    "        y = np.random.uniform(0, 1)\n",
    "        if y < p_phi(m,x)**2:\n",
    "            phi.append(x)\n",
    "            i += 1\n",
    "    return phi\n",
    "def thetadots(l,m):\n",
    "    theta = []\n",
    "    y_theta=theta2(l,m)\n",
    "    i = 0\n",
    "    while i < dots:\n",
    "        x = np.random.uniform(0, np.pi)\n",
    "        y = np.random.uniform(0, y_theta)\n",
    "        if y < p_theta(m,l,x):\n",
    "            theta.append(x)\n",
    "            i += 1\n",
    "    return theta"
   ]
  },
  {
   "cell_type": "code",
   "execution_count": 361,
   "id": "2e2e5511",
   "metadata": {},
   "outputs": [],
   "source": [
    "#This section it's for create a simple spherical harmonic\n",
    "# Unnormalized values of psi for the colormap (compute probability density)\n",
    "\n",
    "r=radialdots(n)\n",
    "theta=thetadots(l,m)\n",
    "phi=phidots(l,m)\n",
    "\n",
    "\n",
    "psi = [R_nl(n,l,r[i]) * lpmv(abs(m),l,np.cos(theta[i])) * p_phi(m,phi[i]) for i in range(dots)]\n",
    "#r1=Sampling(n1,l1,m1)\n",
    "#psi2 = [R_nl(n1,l1,r1[i]) * lpmv(abs(m1),l1,np.cos(theta[i])) * p_phi(m1,phi[i]) for i in range(dots)]"
   ]
  },
  {
   "cell_type": "code",
   "execution_count": null,
   "id": "4b0f3eab",
   "metadata": {},
   "outputs": [],
   "source": []
  },
  {
   "cell_type": "code",
   "execution_count": null,
   "id": "926206fc",
   "metadata": {},
   "outputs": [],
   "source": [
    "# Conversion to Cartesian coordinates\n",
    "#As also here, convert spherical coordinates into cartesian for a single sphercial harmonic\n",
    "x = [r[i] * np.sin(theta[i]) * np.cos(phi[i]) for i in range(dots)]\n",
    "y = [r[i] * np.sin(theta[i]) * np.sin(phi[i]) for i in range(dots)]\n",
    "z = [r[i] * np.cos(theta[i]) for i in range(dots)]\n"
   ]
  },
  {
   "cell_type": "code",
   "execution_count": 347,
   "id": "d6285591",
   "metadata": {},
   "outputs": [
    {
     "name": "stdout",
     "output_type": "stream",
     "text": [
      "Escriba una letrasp\n"
     ]
    }
   ],
   "source": [
    "hibr=(input(\"Escriba una letra\"))\n",
    "if(hibr=='sp'):\n",
    "    n=2\n",
    "    l=0\n",
    "    m=0\n",
    "    n1=2\n",
    "    l1=1\n",
    "    m1=0"
   ]
  },
  {
   "cell_type": "code",
   "execution_count": null,
   "id": "924b77e6",
   "metadata": {},
   "outputs": [],
   "source": [
    "# Plot\n",
    "from mpl_toolkits.mplot3d import Axes3D\n",
    "import matplotlib.pyplot as plt\n",
    "%matplotlib notebook\n",
    "\n",
    "\n",
    "px = 1 / plt.rcParams['figure.dpi']    # Get px in inches\n",
    "fig = plt.figure(figsize = (size*px, size*px), facecolor = bgcolor)\n",
    "ax = fig.add_subplot(projection = '3d', aspect = 'equal', xlim = (-radial(n), radial(n)), ylim = (-radial(n), radial(n)), zlim = (-radial(n), radial(n)), facecolor = '#0000'); ax.axis('on')\n",
    "fig.subplots_adjust(top = 23/18, bottom = -29/90, left = -29/90, right = 23/18)\n",
    "ax.view_init(elev=30, azim=90)\n",
    "scat = ax.scatter(x, y, z, c = psi, cmap = colormap, norm = cn(), linewidth = 0, s = defaults[11]*(72*px)**2, marker = defaults[12], alpha = defaults[13])\n",
    "\n",
    "\n",
    "plt.show()\n"
   ]
  },
  {
   "cell_type": "code",
   "execution_count": 349,
   "id": "9251ec5a",
   "metadata": {},
   "outputs": [
    {
     "name": "stdout",
     "output_type": "stream",
     "text": [
      "1500\n",
      "1500\n",
      "1500\n"
     ]
    }
   ],
   "source": [
    "print(len(x))  # Imprimir el tamaño de x\n",
    "print(len(y))  # Imprimir el tamaño de y\n",
    "print(len(psi))  # Imprimir el tamaño de psi"
   ]
  }
 ],
 "metadata": {
  "kernelspec": {
   "display_name": "Python 3 (ipykernel)",
   "language": "python",
   "name": "python3"
  },
  "language_info": {
   "codemirror_mode": {
    "name": "ipython",
    "version": 3
   },
   "file_extension": ".py",
   "mimetype": "text/x-python",
   "name": "python",
   "nbconvert_exporter": "python",
   "pygments_lexer": "ipython3",
   "version": "3.11.5"
  }
 },
 "nbformat": 4,
 "nbformat_minor": 5
}
